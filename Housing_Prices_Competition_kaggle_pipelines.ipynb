{
  "nbformat": 4,
  "nbformat_minor": 5,
  "metadata": {
    "kernelspec": {
      "display_name": "Python 3",
      "language": "python",
      "name": "python3"
    },
    "language_info": {
      "codemirror_mode": {
        "name": "ipython",
        "version": 3
      },
      "file_extension": ".py",
      "mimetype": "text/x-python",
      "name": "python",
      "nbconvert_exporter": "python",
      "pygments_lexer": "ipython3",
      "version": "3.7.9"
    },
    "papermill": {
      "default_parameters": {},
      "duration": 37.339574,
      "end_time": "2021-06-25T16:32:38.086851",
      "environment_variables": {},
      "exception": null,
      "input_path": "__notebook__.ipynb",
      "output_path": "__notebook__.ipynb",
      "parameters": {},
      "start_time": "2021-06-25T16:32:00.747277",
      "version": "2.3.2"
    },
    "colab": {
      "name": "Housing Prices Competition-kaggle-pipelines.ipynb",
      "provenance": [],
      "include_colab_link": true
    }
  },
  "cells": [
    {
      "cell_type": "markdown",
      "metadata": {
        "id": "view-in-github",
        "colab_type": "text"
      },
      "source": [
        "<a href=\"https://colab.research.google.com/github/Pratik2319/Data_Science_Projects/blob/main/Housing_Prices_Competition_kaggle_pipelines.ipynb\" target=\"_parent\"><img src=\"https://colab.research.google.com/assets/colab-badge.svg\" alt=\"Open In Colab\"/></a>"
      ]
    },
    {
      "cell_type": "markdown",
      "metadata": {
        "papermill": {
          "duration": 0.016572,
          "end_time": "2021-06-25T16:32:07.357841",
          "exception": false,
          "start_time": "2021-06-25T16:32:07.341269",
          "status": "completed"
        },
        "tags": [],
        "id": "addressed-murder"
      },
      "source": [
        "**This notebook is an exercise in the [Intermediate Machine Learning](https://www.kaggle.com/learn/intermediate-machine-learning) course.  You can reference the tutorial at [this link](https://www.kaggle.com/alexisbcook/pipelines).**\n",
        "\n",
        "---\n"
      ],
      "id": "addressed-murder"
    },
    {
      "cell_type": "markdown",
      "metadata": {
        "papermill": {
          "duration": 0.014088,
          "end_time": "2021-06-25T16:32:07.386601",
          "exception": false,
          "start_time": "2021-06-25T16:32:07.372513",
          "status": "completed"
        },
        "tags": [],
        "id": "demanding-cooking"
      },
      "source": [
        "In this exercise, you will use **pipelines** to improve the efficiency of your machine learning code.\n",
        "\n",
        "# Setup\n",
        "\n",
        "The questions below will give you feedback on your work. Run the following cell to set up the feedback system."
      ],
      "id": "demanding-cooking"
    },
    {
      "cell_type": "code",
      "metadata": {
        "execution": {
          "iopub.execute_input": "2021-06-25T16:32:07.421842Z",
          "iopub.status.busy": "2021-06-25T16:32:07.421050Z",
          "iopub.status.idle": "2021-06-25T16:32:08.531379Z",
          "shell.execute_reply": "2021-06-25T16:32:08.529945Z",
          "shell.execute_reply.started": "2021-06-25T16:03:22.992414Z"
        },
        "papermill": {
          "duration": 1.130611,
          "end_time": "2021-06-25T16:32:08.531609",
          "exception": false,
          "start_time": "2021-06-25T16:32:07.400998",
          "status": "completed"
        },
        "tags": [],
        "id": "cubic-shipping",
        "outputId": "422d5135-d22a-477a-825e-6621357efe28"
      },
      "source": [
        "# Set up code checking\n",
        "import os\n",
        "if not os.path.exists(\"../input/train.csv\"):\n",
        "    os.symlink(\"../input/home-data-for-ml-course/train.csv\", \"../input/train.csv\")  \n",
        "    os.symlink(\"../input/home-data-for-ml-course/test.csv\", \"../input/test.csv\") \n",
        "from learntools.core import binder\n",
        "binder.bind(globals())\n",
        "from learntools.ml_intermediate.ex4 import *\n",
        "print(\"Setup Complete\")"
      ],
      "id": "cubic-shipping",
      "execution_count": null,
      "outputs": [
        {
          "name": "stdout",
          "output_type": "stream",
          "text": [
            "Setup Complete\n"
          ]
        }
      ]
    },
    {
      "cell_type": "markdown",
      "metadata": {
        "papermill": {
          "duration": 0.014573,
          "end_time": "2021-06-25T16:32:08.562935",
          "exception": false,
          "start_time": "2021-06-25T16:32:08.548362",
          "status": "completed"
        },
        "tags": [],
        "id": "casual-focus"
      },
      "source": [
        "You will work with data from the [Housing Prices Competition for Kaggle Learn Users](https://www.kaggle.com/c/home-data-for-ml-course). \n",
        "\n",
        "![Ames Housing dataset image](https://i.imgur.com/lTJVG4e.png)\n",
        "\n",
        "Run the next code cell without changes to load the training and validation sets in `X_train`, `X_valid`, `y_train`, and `y_valid`.  The test set is loaded in `X_test`."
      ],
      "id": "casual-focus"
    },
    {
      "cell_type": "code",
      "metadata": {
        "execution": {
          "iopub.execute_input": "2021-06-25T16:32:08.604469Z",
          "iopub.status.busy": "2021-06-25T16:32:08.603629Z",
          "iopub.status.idle": "2021-06-25T16:32:08.897732Z",
          "shell.execute_reply": "2021-06-25T16:32:08.896797Z",
          "shell.execute_reply.started": "2021-06-25T16:06:01.606201Z"
        },
        "papermill": {
          "duration": 0.319853,
          "end_time": "2021-06-25T16:32:08.897883",
          "exception": false,
          "start_time": "2021-06-25T16:32:08.578030",
          "status": "completed"
        },
        "tags": [],
        "id": "saving-assist"
      },
      "source": [
        "import pandas as pd\n",
        "from sklearn.model_selection import train_test_split\n",
        "\n",
        "# Read the data\n",
        "X_full = pd.read_csv('../input/train.csv', index_col='Id')\n",
        "X_test_full = pd.read_csv('../input/test.csv', index_col='Id')\n",
        "\n",
        "# Remove rows with missing target, separate target from predictors\n",
        "X_full.dropna(axis=0, subset=['SalePrice'], inplace=True)\n",
        "y = X_full.SalePrice\n",
        "X_full.drop(['SalePrice'], axis=1, inplace=True)\n",
        "\n",
        "# Break off validation set from training data\n",
        "X_train_full, X_valid_full, y_train, y_valid = train_test_split(X_full, y, \n",
        "                                                                train_size=0.8, test_size=0.2,\n",
        "                                                                random_state=0)\n",
        "\n",
        "# \"Cardinality\" means the number of unique values in a column\n",
        "# Select categorical columns with relatively low cardinality (convenient but arbitrary)\n",
        "categorical_cols = [cname for cname in X_train_full.columns if\n",
        "                    X_train_full[cname].nunique() < 10 and \n",
        "                    X_train_full[cname].dtype == \"object\"]\n",
        "\n",
        "# Select numerical columns\n",
        "numerical_cols = [cname for cname in X_train_full.columns if \n",
        "                X_train_full[cname].dtype in ['int64', 'float64']]\n",
        "\n",
        "# Keep selected columns only\n",
        "my_cols = categorical_cols + numerical_cols\n",
        "X_train = X_train_full[my_cols].copy()\n",
        "X_valid = X_valid_full[my_cols].copy()\n",
        "X_test = X_test_full[my_cols].copy()"
      ],
      "id": "saving-assist",
      "execution_count": null,
      "outputs": []
    },
    {
      "cell_type": "code",
      "metadata": {
        "execution": {
          "iopub.execute_input": "2021-06-25T16:32:08.939032Z",
          "iopub.status.busy": "2021-06-25T16:32:08.938355Z",
          "iopub.status.idle": "2021-06-25T16:32:08.965166Z",
          "shell.execute_reply": "2021-06-25T16:32:08.964667Z",
          "shell.execute_reply.started": "2021-06-25T16:06:06.230280Z"
        },
        "papermill": {
          "duration": 0.05231,
          "end_time": "2021-06-25T16:32:08.965326",
          "exception": false,
          "start_time": "2021-06-25T16:32:08.913016",
          "status": "completed"
        },
        "tags": [],
        "id": "oriented-ireland",
        "outputId": "7c3d217e-418b-4b3f-ff0e-3a8135c56d24"
      },
      "source": [
        "X_train.head()"
      ],
      "id": "oriented-ireland",
      "execution_count": null,
      "outputs": [
        {
          "data": {
            "text/html": [
              "<div>\n",
              "<style scoped>\n",
              "    .dataframe tbody tr th:only-of-type {\n",
              "        vertical-align: middle;\n",
              "    }\n",
              "\n",
              "    .dataframe tbody tr th {\n",
              "        vertical-align: top;\n",
              "    }\n",
              "\n",
              "    .dataframe thead th {\n",
              "        text-align: right;\n",
              "    }\n",
              "</style>\n",
              "<table border=\"1\" class=\"dataframe\">\n",
              "  <thead>\n",
              "    <tr style=\"text-align: right;\">\n",
              "      <th></th>\n",
              "      <th>MSZoning</th>\n",
              "      <th>Street</th>\n",
              "      <th>Alley</th>\n",
              "      <th>LotShape</th>\n",
              "      <th>LandContour</th>\n",
              "      <th>Utilities</th>\n",
              "      <th>LotConfig</th>\n",
              "      <th>LandSlope</th>\n",
              "      <th>Condition1</th>\n",
              "      <th>Condition2</th>\n",
              "      <th>...</th>\n",
              "      <th>GarageArea</th>\n",
              "      <th>WoodDeckSF</th>\n",
              "      <th>OpenPorchSF</th>\n",
              "      <th>EnclosedPorch</th>\n",
              "      <th>3SsnPorch</th>\n",
              "      <th>ScreenPorch</th>\n",
              "      <th>PoolArea</th>\n",
              "      <th>MiscVal</th>\n",
              "      <th>MoSold</th>\n",
              "      <th>YrSold</th>\n",
              "    </tr>\n",
              "    <tr>\n",
              "      <th>Id</th>\n",
              "      <th></th>\n",
              "      <th></th>\n",
              "      <th></th>\n",
              "      <th></th>\n",
              "      <th></th>\n",
              "      <th></th>\n",
              "      <th></th>\n",
              "      <th></th>\n",
              "      <th></th>\n",
              "      <th></th>\n",
              "      <th></th>\n",
              "      <th></th>\n",
              "      <th></th>\n",
              "      <th></th>\n",
              "      <th></th>\n",
              "      <th></th>\n",
              "      <th></th>\n",
              "      <th></th>\n",
              "      <th></th>\n",
              "      <th></th>\n",
              "      <th></th>\n",
              "    </tr>\n",
              "  </thead>\n",
              "  <tbody>\n",
              "    <tr>\n",
              "      <th>619</th>\n",
              "      <td>RL</td>\n",
              "      <td>Pave</td>\n",
              "      <td>NaN</td>\n",
              "      <td>Reg</td>\n",
              "      <td>Lvl</td>\n",
              "      <td>AllPub</td>\n",
              "      <td>Inside</td>\n",
              "      <td>Gtl</td>\n",
              "      <td>Norm</td>\n",
              "      <td>Norm</td>\n",
              "      <td>...</td>\n",
              "      <td>774</td>\n",
              "      <td>0</td>\n",
              "      <td>108</td>\n",
              "      <td>0</td>\n",
              "      <td>0</td>\n",
              "      <td>260</td>\n",
              "      <td>0</td>\n",
              "      <td>0</td>\n",
              "      <td>7</td>\n",
              "      <td>2007</td>\n",
              "    </tr>\n",
              "    <tr>\n",
              "      <th>871</th>\n",
              "      <td>RL</td>\n",
              "      <td>Pave</td>\n",
              "      <td>NaN</td>\n",
              "      <td>Reg</td>\n",
              "      <td>Lvl</td>\n",
              "      <td>AllPub</td>\n",
              "      <td>Inside</td>\n",
              "      <td>Gtl</td>\n",
              "      <td>PosN</td>\n",
              "      <td>Norm</td>\n",
              "      <td>...</td>\n",
              "      <td>308</td>\n",
              "      <td>0</td>\n",
              "      <td>0</td>\n",
              "      <td>0</td>\n",
              "      <td>0</td>\n",
              "      <td>0</td>\n",
              "      <td>0</td>\n",
              "      <td>0</td>\n",
              "      <td>8</td>\n",
              "      <td>2009</td>\n",
              "    </tr>\n",
              "    <tr>\n",
              "      <th>93</th>\n",
              "      <td>RL</td>\n",
              "      <td>Pave</td>\n",
              "      <td>Grvl</td>\n",
              "      <td>IR1</td>\n",
              "      <td>HLS</td>\n",
              "      <td>AllPub</td>\n",
              "      <td>Inside</td>\n",
              "      <td>Gtl</td>\n",
              "      <td>Norm</td>\n",
              "      <td>Norm</td>\n",
              "      <td>...</td>\n",
              "      <td>432</td>\n",
              "      <td>0</td>\n",
              "      <td>0</td>\n",
              "      <td>44</td>\n",
              "      <td>0</td>\n",
              "      <td>0</td>\n",
              "      <td>0</td>\n",
              "      <td>0</td>\n",
              "      <td>8</td>\n",
              "      <td>2009</td>\n",
              "    </tr>\n",
              "    <tr>\n",
              "      <th>818</th>\n",
              "      <td>RL</td>\n",
              "      <td>Pave</td>\n",
              "      <td>NaN</td>\n",
              "      <td>IR1</td>\n",
              "      <td>Lvl</td>\n",
              "      <td>AllPub</td>\n",
              "      <td>CulDSac</td>\n",
              "      <td>Gtl</td>\n",
              "      <td>Norm</td>\n",
              "      <td>Norm</td>\n",
              "      <td>...</td>\n",
              "      <td>857</td>\n",
              "      <td>150</td>\n",
              "      <td>59</td>\n",
              "      <td>0</td>\n",
              "      <td>0</td>\n",
              "      <td>0</td>\n",
              "      <td>0</td>\n",
              "      <td>0</td>\n",
              "      <td>7</td>\n",
              "      <td>2008</td>\n",
              "    </tr>\n",
              "    <tr>\n",
              "      <th>303</th>\n",
              "      <td>RL</td>\n",
              "      <td>Pave</td>\n",
              "      <td>NaN</td>\n",
              "      <td>IR1</td>\n",
              "      <td>Lvl</td>\n",
              "      <td>AllPub</td>\n",
              "      <td>Corner</td>\n",
              "      <td>Gtl</td>\n",
              "      <td>Norm</td>\n",
              "      <td>Norm</td>\n",
              "      <td>...</td>\n",
              "      <td>843</td>\n",
              "      <td>468</td>\n",
              "      <td>81</td>\n",
              "      <td>0</td>\n",
              "      <td>0</td>\n",
              "      <td>0</td>\n",
              "      <td>0</td>\n",
              "      <td>0</td>\n",
              "      <td>1</td>\n",
              "      <td>2006</td>\n",
              "    </tr>\n",
              "  </tbody>\n",
              "</table>\n",
              "<p>5 rows × 76 columns</p>\n",
              "</div>"
            ],
            "text/plain": [
              "    MSZoning Street Alley LotShape LandContour Utilities LotConfig LandSlope  \\\n",
              "Id                                                                             \n",
              "619       RL   Pave   NaN      Reg         Lvl    AllPub    Inside       Gtl   \n",
              "871       RL   Pave   NaN      Reg         Lvl    AllPub    Inside       Gtl   \n",
              "93        RL   Pave  Grvl      IR1         HLS    AllPub    Inside       Gtl   \n",
              "818       RL   Pave   NaN      IR1         Lvl    AllPub   CulDSac       Gtl   \n",
              "303       RL   Pave   NaN      IR1         Lvl    AllPub    Corner       Gtl   \n",
              "\n",
              "    Condition1 Condition2  ... GarageArea WoodDeckSF OpenPorchSF  \\\n",
              "Id                         ...                                     \n",
              "619       Norm       Norm  ...        774          0         108   \n",
              "871       PosN       Norm  ...        308          0           0   \n",
              "93        Norm       Norm  ...        432          0           0   \n",
              "818       Norm       Norm  ...        857        150          59   \n",
              "303       Norm       Norm  ...        843        468          81   \n",
              "\n",
              "    EnclosedPorch 3SsnPorch ScreenPorch PoolArea MiscVal MoSold YrSold  \n",
              "Id                                                                      \n",
              "619             0         0         260        0       0      7   2007  \n",
              "871             0         0           0        0       0      8   2009  \n",
              "93             44         0           0        0       0      8   2009  \n",
              "818             0         0           0        0       0      7   2008  \n",
              "303             0         0           0        0       0      1   2006  \n",
              "\n",
              "[5 rows x 76 columns]"
            ]
          },
          "execution_count": 3,
          "metadata": {},
          "output_type": "execute_result"
        }
      ]
    },
    {
      "cell_type": "markdown",
      "metadata": {
        "papermill": {
          "duration": 0.015169,
          "end_time": "2021-06-25T16:32:08.996362",
          "exception": false,
          "start_time": "2021-06-25T16:32:08.981193",
          "status": "completed"
        },
        "tags": [],
        "id": "bored-player"
      },
      "source": [
        "The next code cell uses code from the tutorial to preprocess the data and train a model.  Run this code without changes."
      ],
      "id": "bored-player"
    },
    {
      "cell_type": "code",
      "metadata": {
        "execution": {
          "iopub.execute_input": "2021-06-25T16:32:09.033722Z",
          "iopub.status.busy": "2021-06-25T16:32:09.032770Z",
          "iopub.status.idle": "2021-06-25T16:32:11.780556Z",
          "shell.execute_reply": "2021-06-25T16:32:11.779773Z",
          "shell.execute_reply.started": "2021-06-25T16:11:58.871585Z"
        },
        "papermill": {
          "duration": 2.768218,
          "end_time": "2021-06-25T16:32:11.780744",
          "exception": false,
          "start_time": "2021-06-25T16:32:09.012526",
          "status": "completed"
        },
        "tags": [],
        "id": "successful-stationery",
        "outputId": "4a60ed06-74da-4259-b4f3-45d53f9c3723"
      },
      "source": [
        "from sklearn.compose import ColumnTransformer\n",
        "from sklearn.pipeline import Pipeline\n",
        "from sklearn.impute import SimpleImputer\n",
        "from sklearn.preprocessing import OneHotEncoder\n",
        "from sklearn.ensemble import RandomForestRegressor\n",
        "from sklearn.metrics import mean_absolute_error\n",
        "\n",
        "# Preprocessing for numerical data\n",
        "numerical_transformer = SimpleImputer(strategy='constant')\n",
        "\n",
        "# Preprocessing for categorical data\n",
        "categorical_transformer = Pipeline(steps=[\n",
        "    ('imputer', SimpleImputer(strategy='most_frequent')),\n",
        "    ('onehot', OneHotEncoder(handle_unknown='ignore'))\n",
        "])\n",
        "\n",
        "# Bundle preprocessing for numerical and categorical data\n",
        "preprocessor = ColumnTransformer(\n",
        "    transformers=[\n",
        "        ('num', numerical_transformer, numerical_cols),\n",
        "        ('cat', categorical_transformer, categorical_cols)\n",
        "    ])\n",
        "\n",
        "# Define model\n",
        "model = RandomForestRegressor(n_estimators=100, random_state=0)\n",
        "\n",
        "# Bundle preprocessing and modeling code in a pipeline\n",
        "clf = Pipeline(steps=[('preprocessor', preprocessor),\n",
        "                      ('model', model)\n",
        "                     ])\n",
        "\n",
        "# Preprocessing of training data, fit model \n",
        "clf.fit(X_train, y_train)\n",
        "\n",
        "# Preprocessing of validation data, get predictions\n",
        "preds = clf.predict(X_valid)\n",
        "\n",
        "print('MAE:', mean_absolute_error(y_valid, preds))"
      ],
      "id": "successful-stationery",
      "execution_count": null,
      "outputs": [
        {
          "name": "stdout",
          "output_type": "stream",
          "text": [
            "MAE: 17861.780102739725\n"
          ]
        }
      ]
    },
    {
      "cell_type": "markdown",
      "metadata": {
        "papermill": {
          "duration": 0.015473,
          "end_time": "2021-06-25T16:32:11.812430",
          "exception": false,
          "start_time": "2021-06-25T16:32:11.796957",
          "status": "completed"
        },
        "tags": [],
        "id": "latest-payroll"
      },
      "source": [
        "The code yields a value around 17862 for the mean absolute error (MAE).  In the next step, you will amend the code to do better.\n",
        "\n",
        "# Step 1: Improve the performance\n",
        "\n",
        "### Part A\n",
        "\n",
        "Now, it's your turn!  In the code cell below, define your own preprocessing steps and random forest model.  Fill in values for the following variables:\n",
        "- `numerical_transformer`\n",
        "- `categorical_transformer`\n",
        "- `model`\n",
        "\n",
        "To pass this part of the exercise, you need only define valid preprocessing steps and a random forest model."
      ],
      "id": "latest-payroll"
    },
    {
      "cell_type": "code",
      "metadata": {
        "execution": {
          "iopub.execute_input": "2021-06-25T16:32:11.852436Z",
          "iopub.status.busy": "2021-06-25T16:32:11.851422Z",
          "iopub.status.idle": "2021-06-25T16:32:11.857353Z",
          "shell.execute_reply": "2021-06-25T16:32:11.857832Z",
          "shell.execute_reply.started": "2021-06-25T16:21:13.946587Z"
        },
        "papermill": {
          "duration": 0.029827,
          "end_time": "2021-06-25T16:32:11.858003",
          "exception": false,
          "start_time": "2021-06-25T16:32:11.828176",
          "status": "completed"
        },
        "tags": [],
        "id": "increased-preservation",
        "outputId": "c4684e17-8ae1-4099-e577-84abfdf8689b"
      },
      "source": [
        "# Preprocessing for numerical data\n",
        "numerical_transformer = SimpleImputer(strategy='median') # Your code here\n",
        "\n",
        "# Preprocessing for categorical data\n",
        "categorical_transformer = Pipeline(steps=[('Impute',SimpleImputer(strategy=\"most_frequent\")),\n",
        "                                          ('onehot',OneHotEncoder(handle_unknown='ignore'))]) # Your code here\n",
        "\n",
        "# Bundle preprocessing for numerical and categorical data\n",
        "preprocessor = ColumnTransformer(\n",
        "    transformers=[\n",
        "        ('num', numerical_transformer, numerical_cols),\n",
        "        ('cat', categorical_transformer, categorical_cols)\n",
        "    ])\n",
        "\n",
        "# Define model\n",
        "model = RandomForestRegressor(n_estimators=100,criterion='mae',max_depth=10,random_state=0) # Your code here\n",
        "\n",
        "# Check your answer\n",
        "step_1.a.check()"
      ],
      "id": "increased-preservation",
      "execution_count": null,
      "outputs": [
        {
          "data": {
            "application/javascript": [
              "parent.postMessage({\"jupyterEvent\": \"custom.exercise_interaction\", \"data\": {\"outcomeType\": 1, \"valueTowardsCompletion\": 1.0, \"interactionType\": 1, \"questionType\": 2, \"questionId\": \"1.1_YourTurnModel\", \"learnToolsVersion\": \"0.3.4\", \"failureMessage\": \"\", \"exceptionClass\": \"\", \"trace\": \"\"}}, \"*\")"
            ],
            "text/plain": [
              "<IPython.core.display.Javascript object>"
            ]
          },
          "metadata": {},
          "output_type": "display_data"
        },
        {
          "data": {
            "text/markdown": [
              "<span style=\"color:#33cc33\">Correct</span>"
            ],
            "text/plain": [
              "Correct"
            ]
          },
          "metadata": {},
          "output_type": "display_data"
        }
      ]
    },
    {
      "cell_type": "code",
      "metadata": {
        "execution": {
          "iopub.execute_input": "2021-06-25T16:32:11.897009Z",
          "iopub.status.busy": "2021-06-25T16:32:11.896188Z",
          "iopub.status.idle": "2021-06-25T16:32:11.900896Z",
          "shell.execute_reply": "2021-06-25T16:32:11.901425Z",
          "shell.execute_reply.started": "2021-06-25T16:20:56.252802Z"
        },
        "papermill": {
          "duration": 0.027018,
          "end_time": "2021-06-25T16:32:11.901650",
          "exception": false,
          "start_time": "2021-06-25T16:32:11.874632",
          "status": "completed"
        },
        "tags": [],
        "id": "adequate-passage",
        "outputId": "cfd9f735-6663-423a-d172-4faa2dac162a"
      },
      "source": [
        "# Lines below will give you a hint or solution code\n",
        "step_1.a.hint()\n",
        "# step_1.a.solution()"
      ],
      "id": "adequate-passage",
      "execution_count": null,
      "outputs": [
        {
          "data": {
            "application/javascript": [
              "parent.postMessage({\"jupyterEvent\": \"custom.exercise_interaction\", \"data\": {\"interactionType\": 2, \"questionType\": 2, \"questionId\": \"1.1_YourTurnModel\", \"learnToolsVersion\": \"0.3.4\", \"valueTowardsCompletion\": 0.0, \"failureMessage\": \"\", \"exceptionClass\": \"\", \"trace\": \"\", \"outcomeType\": 4}}, \"*\")"
            ],
            "text/plain": [
              "<IPython.core.display.Javascript object>"
            ]
          },
          "metadata": {},
          "output_type": "display_data"
        },
        {
          "data": {
            "text/markdown": [
              "<span style=\"color:#3366cc\">Hint:</span> While there are many different potential solutions to this problem, we achieved satisfactory results by changing only `column_transformer` from the default value - specifically, we changed the `strategy` parameter that decides how missing values are imputed."
            ],
            "text/plain": [
              "Hint: While there are many different potential solutions to this problem, we achieved satisfactory results by changing only `column_transformer` from the default value - specifically, we changed the `strategy` parameter that decides how missing values are imputed."
            ]
          },
          "metadata": {},
          "output_type": "display_data"
        }
      ]
    },
    {
      "cell_type": "markdown",
      "metadata": {
        "papermill": {
          "duration": 0.018109,
          "end_time": "2021-06-25T16:32:11.939382",
          "exception": false,
          "start_time": "2021-06-25T16:32:11.921273",
          "status": "completed"
        },
        "tags": [],
        "id": "expanded-shooting"
      },
      "source": [
        "### Part B\n",
        "\n",
        "Run the code cell below without changes.\n",
        "\n",
        "To pass this step, you need to have defined a pipeline in **Part A** that achieves lower MAE than the code above.  You're encouraged to take your time here and try out many different approaches, to see how low you can get the MAE!  (_If your code does not pass, please amend the preprocessing steps and model in Part A._)"
      ],
      "id": "expanded-shooting"
    },
    {
      "cell_type": "code",
      "metadata": {
        "execution": {
          "iopub.execute_input": "2021-06-25T16:32:11.987956Z",
          "iopub.status.busy": "2021-06-25T16:32:11.987270Z",
          "iopub.status.idle": "2021-06-25T16:32:36.816514Z",
          "shell.execute_reply": "2021-06-25T16:32:36.815926Z",
          "shell.execute_reply.started": "2021-06-25T16:21:18.238929Z"
        },
        "papermill": {
          "duration": 24.858239,
          "end_time": "2021-06-25T16:32:36.816680",
          "exception": false,
          "start_time": "2021-06-25T16:32:11.958441",
          "status": "completed"
        },
        "tags": [],
        "id": "administrative-press",
        "outputId": "1c19141a-b69f-4116-dd48-2e80fa8fb6a9"
      },
      "source": [
        "# Bundle preprocessing and modeling code in a pipeline\n",
        "my_pipeline = Pipeline(steps=[('preprocessor', preprocessor),\n",
        "                              ('model', model)\n",
        "                             ])\n",
        "\n",
        "# Preprocessing of training data, fit model \n",
        "my_pipeline.fit(X_train, y_train)\n",
        "\n",
        "# Preprocessing of validation data, get predictions\n",
        "preds = my_pipeline.predict(X_valid)\n",
        "\n",
        "# Evaluate the model\n",
        "score = mean_absolute_error(y_valid, preds)\n",
        "print('MAE:', score)\n",
        "\n",
        "# Check your answer\n",
        "step_1.b.check()"
      ],
      "id": "administrative-press",
      "execution_count": null,
      "outputs": [
        {
          "name": "stdout",
          "output_type": "stream",
          "text": [
            "MAE: 17827.831558219175\n"
          ]
        },
        {
          "data": {
            "application/javascript": [
              "parent.postMessage({\"jupyterEvent\": \"custom.exercise_interaction\", \"data\": {\"outcomeType\": 1, \"valueTowardsCompletion\": 1.0, \"interactionType\": 1, \"questionType\": 2, \"questionId\": \"1.2_YourTurnPredict\", \"learnToolsVersion\": \"0.3.4\", \"failureMessage\": \"\", \"exceptionClass\": \"\", \"trace\": \"\"}}, \"*\")"
            ],
            "text/plain": [
              "<IPython.core.display.Javascript object>"
            ]
          },
          "metadata": {},
          "output_type": "display_data"
        },
        {
          "data": {
            "text/markdown": [
              "<span style=\"color:#33cc33\">Correct</span>"
            ],
            "text/plain": [
              "Correct"
            ]
          },
          "metadata": {},
          "output_type": "display_data"
        }
      ]
    },
    {
      "cell_type": "code",
      "metadata": {
        "execution": {
          "iopub.execute_input": "2021-06-25T16:32:36.860892Z",
          "iopub.status.busy": "2021-06-25T16:32:36.860278Z",
          "iopub.status.idle": "2021-06-25T16:32:36.862736Z",
          "shell.execute_reply": "2021-06-25T16:32:36.863296Z"
        },
        "papermill": {
          "duration": 0.027072,
          "end_time": "2021-06-25T16:32:36.863466",
          "exception": false,
          "start_time": "2021-06-25T16:32:36.836394",
          "status": "completed"
        },
        "tags": [],
        "id": "brief-america"
      },
      "source": [
        "# Line below will give you a hint\n",
        "#step_1.b.hint()"
      ],
      "id": "brief-america",
      "execution_count": null,
      "outputs": []
    },
    {
      "cell_type": "markdown",
      "metadata": {
        "papermill": {
          "duration": 0.018701,
          "end_time": "2021-06-25T16:32:36.901347",
          "exception": false,
          "start_time": "2021-06-25T16:32:36.882646",
          "status": "completed"
        },
        "tags": [],
        "id": "corrected-aspect"
      },
      "source": [
        "# Step 2: Generate test predictions\n",
        "\n",
        "Now, you'll use your trained model to generate predictions with the test data."
      ],
      "id": "corrected-aspect"
    },
    {
      "cell_type": "code",
      "metadata": {
        "execution": {
          "iopub.execute_input": "2021-06-25T16:32:36.943921Z",
          "iopub.status.busy": "2021-06-25T16:32:36.943319Z",
          "iopub.status.idle": "2021-06-25T16:32:37.025928Z",
          "shell.execute_reply": "2021-06-25T16:32:37.025417Z",
          "shell.execute_reply.started": "2021-06-25T16:31:24.758981Z"
        },
        "papermill": {
          "duration": 0.105418,
          "end_time": "2021-06-25T16:32:37.026060",
          "exception": false,
          "start_time": "2021-06-25T16:32:36.920642",
          "status": "completed"
        },
        "tags": [],
        "id": "comfortable-alert",
        "outputId": "b8cadc5a-66f1-4936-cd97-397e54da117c"
      },
      "source": [
        "# Preprocessing of test data, fit model\n",
        "preds_test = my_pipeline.predict(X_test) # Your code here\n",
        "\n",
        "# Check your answer\n",
        "step_2.check()"
      ],
      "id": "comfortable-alert",
      "execution_count": null,
      "outputs": [
        {
          "data": {
            "application/javascript": [
              "parent.postMessage({\"jupyterEvent\": \"custom.exercise_interaction\", \"data\": {\"outcomeType\": 1, \"valueTowardsCompletion\": 1.0, \"interactionType\": 1, \"questionType\": 2, \"questionId\": \"2_TestPreds\", \"learnToolsVersion\": \"0.3.4\", \"failureMessage\": \"\", \"exceptionClass\": \"\", \"trace\": \"\"}}, \"*\")"
            ],
            "text/plain": [
              "<IPython.core.display.Javascript object>"
            ]
          },
          "metadata": {},
          "output_type": "display_data"
        },
        {
          "data": {
            "text/markdown": [
              "<span style=\"color:#33cc33\">Correct</span>"
            ],
            "text/plain": [
              "Correct"
            ]
          },
          "metadata": {},
          "output_type": "display_data"
        }
      ]
    },
    {
      "cell_type": "code",
      "metadata": {
        "execution": {
          "iopub.execute_input": "2021-06-25T16:32:37.071465Z",
          "iopub.status.busy": "2021-06-25T16:32:37.070778Z",
          "iopub.status.idle": "2021-06-25T16:32:37.073258Z",
          "shell.execute_reply": "2021-06-25T16:32:37.073708Z"
        },
        "papermill": {
          "duration": 0.027624,
          "end_time": "2021-06-25T16:32:37.073876",
          "exception": false,
          "start_time": "2021-06-25T16:32:37.046252",
          "status": "completed"
        },
        "tags": [],
        "id": "empirical-remove"
      },
      "source": [
        "# Lines below will give you a hint or solution code\n",
        "#step_2.hint()\n",
        "#step_2.solution()"
      ],
      "id": "empirical-remove",
      "execution_count": null,
      "outputs": []
    },
    {
      "cell_type": "markdown",
      "metadata": {
        "papermill": {
          "duration": 0.020868,
          "end_time": "2021-06-25T16:32:37.115171",
          "exception": false,
          "start_time": "2021-06-25T16:32:37.094303",
          "status": "completed"
        },
        "tags": [],
        "id": "numerous-softball"
      },
      "source": [
        "Run the next code cell without changes to save your results to a CSV file that can be submitted directly to the competition."
      ],
      "id": "numerous-softball"
    },
    {
      "cell_type": "code",
      "metadata": {
        "execution": {
          "iopub.execute_input": "2021-06-25T16:32:37.160084Z",
          "iopub.status.busy": "2021-06-25T16:32:37.159450Z",
          "iopub.status.idle": "2021-06-25T16:32:37.174866Z",
          "shell.execute_reply": "2021-06-25T16:32:37.174172Z",
          "shell.execute_reply.started": "2021-06-25T16:31:38.474908Z"
        },
        "papermill": {
          "duration": 0.039294,
          "end_time": "2021-06-25T16:32:37.175005",
          "exception": false,
          "start_time": "2021-06-25T16:32:37.135711",
          "status": "completed"
        },
        "tags": [],
        "id": "sustainable-madagascar"
      },
      "source": [
        "# Save test predictions to file\n",
        "output = pd.DataFrame({'Id': X_test.index,\n",
        "                       'SalePrice': preds_test})\n",
        "output.to_csv('submission.csv', index=False)"
      ],
      "id": "sustainable-madagascar",
      "execution_count": null,
      "outputs": []
    },
    {
      "cell_type": "markdown",
      "metadata": {
        "papermill": {
          "duration": 0.019882,
          "end_time": "2021-06-25T16:32:37.215490",
          "exception": false,
          "start_time": "2021-06-25T16:32:37.195608",
          "status": "completed"
        },
        "tags": [],
        "id": "agricultural-hours"
      },
      "source": [
        "# Submit your results\n",
        "\n",
        "Once you have successfully completed Step 2, you're ready to submit your results to the leaderboard!  If you choose to do so, make sure that you have already joined the competition by clicking on the **Join Competition** button at [this link](https://www.kaggle.com/c/home-data-for-ml-course).  \n",
        "1. Begin by clicking on the blue **Save Version** button in the top right corner of the window.  This will generate a pop-up window.  \n",
        "2. Ensure that the **Save and Run All** option is selected, and then click on the blue **Save** button.\n",
        "3. This generates a window in the bottom left corner of the notebook.  After it has finished running, click on the number to the right of the **Save Version** button.  This pulls up a list of versions on the right of the screen.  Click on the ellipsis **(...)** to the right of the most recent version, and select **Open in Viewer**.  This brings you into view mode of the same page. You will need to scroll down to get back to these instructions.\n",
        "4. Click on the **Output** tab on the right of the screen.  Then, click on the file you would like to submit, and click on the blue **Submit** button to submit your results to the leaderboard.\n",
        "\n",
        "You have now successfully submitted to the competition!\n",
        "\n",
        "If you want to keep working to improve your performance, select the blue **Edit** button in the top right of the screen. Then you can change your code and repeat the process. There's a lot of room to improve, and you will climb up the leaderboard as you work.\n",
        "\n",
        "\n",
        "# Keep going\n",
        "\n",
        "Move on to learn about [**cross-validation**](https://www.kaggle.com/alexisbcook/cross-validation), a technique you can use to obtain more accurate estimates of model performance!"
      ],
      "id": "agricultural-hours"
    },
    {
      "cell_type": "markdown",
      "metadata": {
        "papermill": {
          "duration": 0.019741,
          "end_time": "2021-06-25T16:32:37.255647",
          "exception": false,
          "start_time": "2021-06-25T16:32:37.235906",
          "status": "completed"
        },
        "tags": [],
        "id": "universal-layer"
      },
      "source": [
        "---\n",
        "\n",
        "\n",
        "\n",
        "\n",
        "*Have questions or comments? Visit the [Learn Discussion forum](https://www.kaggle.com/learn-forum/161289) to chat with other Learners.*"
      ],
      "id": "universal-layer"
    }
  ]
}